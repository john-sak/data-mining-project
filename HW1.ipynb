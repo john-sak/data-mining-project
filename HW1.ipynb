{
  "cells": [
    {
      "cell_type": "markdown",
      "metadata": {
        "id": "__6Ny7ptcuBS"
      },
      "source": [
        "#Τεχνικές Εξόρυξης Δεδομένων - Εργασία 1"
      ]
    },
    {
      "cell_type": "markdown",
      "metadata": {
        "id": "2i8_nRGb2yR2"
      },
      "source": [
        "* Μασούρας Νικόλαος (sdi1800112)\n",
        "* Σακαρέλλος Ιωάννης (sdi1800167)"
      ]
    },
    {
      "cell_type": "code",
      "execution_count": null,
      "metadata": {
        "id": "qpj75FrpfM5l",
        "colab": {
          "base_uri": "https://localhost:8080/",
          "height": 582
        },
        "outputId": "5d6f6d11-3a83-4533-d2f4-31415e2049a3"
      },
      "outputs": [
        {
          "output_type": "stream",
          "name": "stdout",
          "text": [
            "Mounted at /content/gdrive\n"
          ]
        },
        {
          "output_type": "execute_result",
          "data": {
            "text/plain": [
              "                    id             user_name              user_location  \\\n",
              "0  1340539111971516416            Rachel Roh  La Crescenta-Montrose, CA   \n",
              "1  1338158543359250433           Albert Fong          San Francisco, CA   \n",
              "2  1337858199140118533              eli🇱🇹🇪🇺👌                   Your Bed   \n",
              "3  1337855739918835717         Charles Adler     Vancouver, BC - Canada   \n",
              "4  1337854064604966912  Citizen News Channel                        NaN   \n",
              "\n",
              "                                    user_description         user_created  \\\n",
              "0  Aggregator of Asian American news; scanning di...  2009-04-08 17:52:46   \n",
              "1  Marketing dude, tech geek, heavy metal & '80s ...  2009-09-21 15:27:30   \n",
              "2                                     heil, hydra 🖐☺  2020-06-25 23:30:28   \n",
              "3  Hosting \"CharlesAdlerTonight\" Global News Radi...  2008-09-10 11:28:53   \n",
              "4  Citizen News Channel bringing you an alternati...  2020-04-23 17:58:42   \n",
              "\n",
              "   user_followers  user_friends  user_favourites  user_verified  \\\n",
              "0             405          1692             3247          False   \n",
              "1             834           666              178          False   \n",
              "2              10            88              155          False   \n",
              "3           49165          3933            21853           True   \n",
              "4             152           580             1473          False   \n",
              "\n",
              "                  date                                               text  \\\n",
              "0  2020-12-20 06:06:44  Same folks said daikon paste could treat a cyt...   \n",
              "1  2020-12-13 16:27:13  While the world has been on the wrong side of ...   \n",
              "2  2020-12-12 20:33:45  #coronavirus #SputnikV #AstraZeneca #PfizerBio...   \n",
              "3  2020-12-12 20:23:59  Facts are immutable, Senator, even when you're...   \n",
              "4  2020-12-12 20:17:19  Explain to me again why we need a vaccine @Bor...   \n",
              "\n",
              "                                            hashtags               source  \\\n",
              "0                                 ['PfizerBioNTech']  Twitter for Android   \n",
              "1                                                NaN      Twitter Web App   \n",
              "2  ['coronavirus', 'SputnikV', 'AstraZeneca', 'Pf...  Twitter for Android   \n",
              "3                                                NaN      Twitter Web App   \n",
              "4     ['whereareallthesickpeople', 'PfizerBioNTech']   Twitter for iPhone   \n",
              "\n",
              "   retweets  favorites  is_retweet sentiment  \n",
              "0         0          0       False       NEU  \n",
              "1         1          1       False       NEG  \n",
              "2         0          0       False       NEU  \n",
              "3       446       2129       False       NEU  \n",
              "4         0          0       False       NEG  "
            ],
            "text/html": [
              "\n",
              "  <div id=\"df-e46974e2-cdca-4abf-84e6-a34623bdce87\">\n",
              "    <div class=\"colab-df-container\">\n",
              "      <div>\n",
              "<style scoped>\n",
              "    .dataframe tbody tr th:only-of-type {\n",
              "        vertical-align: middle;\n",
              "    }\n",
              "\n",
              "    .dataframe tbody tr th {\n",
              "        vertical-align: top;\n",
              "    }\n",
              "\n",
              "    .dataframe thead th {\n",
              "        text-align: right;\n",
              "    }\n",
              "</style>\n",
              "<table border=\"1\" class=\"dataframe\">\n",
              "  <thead>\n",
              "    <tr style=\"text-align: right;\">\n",
              "      <th></th>\n",
              "      <th>id</th>\n",
              "      <th>user_name</th>\n",
              "      <th>user_location</th>\n",
              "      <th>user_description</th>\n",
              "      <th>user_created</th>\n",
              "      <th>user_followers</th>\n",
              "      <th>user_friends</th>\n",
              "      <th>user_favourites</th>\n",
              "      <th>user_verified</th>\n",
              "      <th>date</th>\n",
              "      <th>text</th>\n",
              "      <th>hashtags</th>\n",
              "      <th>source</th>\n",
              "      <th>retweets</th>\n",
              "      <th>favorites</th>\n",
              "      <th>is_retweet</th>\n",
              "      <th>sentiment</th>\n",
              "    </tr>\n",
              "  </thead>\n",
              "  <tbody>\n",
              "    <tr>\n",
              "      <th>0</th>\n",
              "      <td>1340539111971516416</td>\n",
              "      <td>Rachel Roh</td>\n",
              "      <td>La Crescenta-Montrose, CA</td>\n",
              "      <td>Aggregator of Asian American news; scanning di...</td>\n",
              "      <td>2009-04-08 17:52:46</td>\n",
              "      <td>405</td>\n",
              "      <td>1692</td>\n",
              "      <td>3247</td>\n",
              "      <td>False</td>\n",
              "      <td>2020-12-20 06:06:44</td>\n",
              "      <td>Same folks said daikon paste could treat a cyt...</td>\n",
              "      <td>['PfizerBioNTech']</td>\n",
              "      <td>Twitter for Android</td>\n",
              "      <td>0</td>\n",
              "      <td>0</td>\n",
              "      <td>False</td>\n",
              "      <td>NEU</td>\n",
              "    </tr>\n",
              "    <tr>\n",
              "      <th>1</th>\n",
              "      <td>1338158543359250433</td>\n",
              "      <td>Albert Fong</td>\n",
              "      <td>San Francisco, CA</td>\n",
              "      <td>Marketing dude, tech geek, heavy metal &amp; '80s ...</td>\n",
              "      <td>2009-09-21 15:27:30</td>\n",
              "      <td>834</td>\n",
              "      <td>666</td>\n",
              "      <td>178</td>\n",
              "      <td>False</td>\n",
              "      <td>2020-12-13 16:27:13</td>\n",
              "      <td>While the world has been on the wrong side of ...</td>\n",
              "      <td>NaN</td>\n",
              "      <td>Twitter Web App</td>\n",
              "      <td>1</td>\n",
              "      <td>1</td>\n",
              "      <td>False</td>\n",
              "      <td>NEG</td>\n",
              "    </tr>\n",
              "    <tr>\n",
              "      <th>2</th>\n",
              "      <td>1337858199140118533</td>\n",
              "      <td>eli🇱🇹🇪🇺👌</td>\n",
              "      <td>Your Bed</td>\n",
              "      <td>heil, hydra 🖐☺</td>\n",
              "      <td>2020-06-25 23:30:28</td>\n",
              "      <td>10</td>\n",
              "      <td>88</td>\n",
              "      <td>155</td>\n",
              "      <td>False</td>\n",
              "      <td>2020-12-12 20:33:45</td>\n",
              "      <td>#coronavirus #SputnikV #AstraZeneca #PfizerBio...</td>\n",
              "      <td>['coronavirus', 'SputnikV', 'AstraZeneca', 'Pf...</td>\n",
              "      <td>Twitter for Android</td>\n",
              "      <td>0</td>\n",
              "      <td>0</td>\n",
              "      <td>False</td>\n",
              "      <td>NEU</td>\n",
              "    </tr>\n",
              "    <tr>\n",
              "      <th>3</th>\n",
              "      <td>1337855739918835717</td>\n",
              "      <td>Charles Adler</td>\n",
              "      <td>Vancouver, BC - Canada</td>\n",
              "      <td>Hosting \"CharlesAdlerTonight\" Global News Radi...</td>\n",
              "      <td>2008-09-10 11:28:53</td>\n",
              "      <td>49165</td>\n",
              "      <td>3933</td>\n",
              "      <td>21853</td>\n",
              "      <td>True</td>\n",
              "      <td>2020-12-12 20:23:59</td>\n",
              "      <td>Facts are immutable, Senator, even when you're...</td>\n",
              "      <td>NaN</td>\n",
              "      <td>Twitter Web App</td>\n",
              "      <td>446</td>\n",
              "      <td>2129</td>\n",
              "      <td>False</td>\n",
              "      <td>NEU</td>\n",
              "    </tr>\n",
              "    <tr>\n",
              "      <th>4</th>\n",
              "      <td>1337854064604966912</td>\n",
              "      <td>Citizen News Channel</td>\n",
              "      <td>NaN</td>\n",
              "      <td>Citizen News Channel bringing you an alternati...</td>\n",
              "      <td>2020-04-23 17:58:42</td>\n",
              "      <td>152</td>\n",
              "      <td>580</td>\n",
              "      <td>1473</td>\n",
              "      <td>False</td>\n",
              "      <td>2020-12-12 20:17:19</td>\n",
              "      <td>Explain to me again why we need a vaccine @Bor...</td>\n",
              "      <td>['whereareallthesickpeople', 'PfizerBioNTech']</td>\n",
              "      <td>Twitter for iPhone</td>\n",
              "      <td>0</td>\n",
              "      <td>0</td>\n",
              "      <td>False</td>\n",
              "      <td>NEG</td>\n",
              "    </tr>\n",
              "  </tbody>\n",
              "</table>\n",
              "</div>\n",
              "      <button class=\"colab-df-convert\" onclick=\"convertToInteractive('df-e46974e2-cdca-4abf-84e6-a34623bdce87')\"\n",
              "              title=\"Convert this dataframe to an interactive table.\"\n",
              "              style=\"display:none;\">\n",
              "        \n",
              "  <svg xmlns=\"http://www.w3.org/2000/svg\" height=\"24px\"viewBox=\"0 0 24 24\"\n",
              "       width=\"24px\">\n",
              "    <path d=\"M0 0h24v24H0V0z\" fill=\"none\"/>\n",
              "    <path d=\"M18.56 5.44l.94 2.06.94-2.06 2.06-.94-2.06-.94-.94-2.06-.94 2.06-2.06.94zm-11 1L8.5 8.5l.94-2.06 2.06-.94-2.06-.94L8.5 2.5l-.94 2.06-2.06.94zm10 10l.94 2.06.94-2.06 2.06-.94-2.06-.94-.94-2.06-.94 2.06-2.06.94z\"/><path d=\"M17.41 7.96l-1.37-1.37c-.4-.4-.92-.59-1.43-.59-.52 0-1.04.2-1.43.59L10.3 9.45l-7.72 7.72c-.78.78-.78 2.05 0 2.83L4 21.41c.39.39.9.59 1.41.59.51 0 1.02-.2 1.41-.59l7.78-7.78 2.81-2.81c.8-.78.8-2.07 0-2.86zM5.41 20L4 18.59l7.72-7.72 1.47 1.35L5.41 20z\"/>\n",
              "  </svg>\n",
              "      </button>\n",
              "      \n",
              "  <style>\n",
              "    .colab-df-container {\n",
              "      display:flex;\n",
              "      flex-wrap:wrap;\n",
              "      gap: 12px;\n",
              "    }\n",
              "\n",
              "    .colab-df-convert {\n",
              "      background-color: #E8F0FE;\n",
              "      border: none;\n",
              "      border-radius: 50%;\n",
              "      cursor: pointer;\n",
              "      display: none;\n",
              "      fill: #1967D2;\n",
              "      height: 32px;\n",
              "      padding: 0 0 0 0;\n",
              "      width: 32px;\n",
              "    }\n",
              "\n",
              "    .colab-df-convert:hover {\n",
              "      background-color: #E2EBFA;\n",
              "      box-shadow: 0px 1px 2px rgba(60, 64, 67, 0.3), 0px 1px 3px 1px rgba(60, 64, 67, 0.15);\n",
              "      fill: #174EA6;\n",
              "    }\n",
              "\n",
              "    [theme=dark] .colab-df-convert {\n",
              "      background-color: #3B4455;\n",
              "      fill: #D2E3FC;\n",
              "    }\n",
              "\n",
              "    [theme=dark] .colab-df-convert:hover {\n",
              "      background-color: #434B5C;\n",
              "      box-shadow: 0px 1px 3px 1px rgba(0, 0, 0, 0.15);\n",
              "      filter: drop-shadow(0px 1px 2px rgba(0, 0, 0, 0.3));\n",
              "      fill: #FFFFFF;\n",
              "    }\n",
              "  </style>\n",
              "\n",
              "      <script>\n",
              "        const buttonEl =\n",
              "          document.querySelector('#df-e46974e2-cdca-4abf-84e6-a34623bdce87 button.colab-df-convert');\n",
              "        buttonEl.style.display =\n",
              "          google.colab.kernel.accessAllowed ? 'block' : 'none';\n",
              "\n",
              "        async function convertToInteractive(key) {\n",
              "          const element = document.querySelector('#df-e46974e2-cdca-4abf-84e6-a34623bdce87');\n",
              "          const dataTable =\n",
              "            await google.colab.kernel.invokeFunction('convertToInteractive',\n",
              "                                                     [key], {});\n",
              "          if (!dataTable) return;\n",
              "\n",
              "          const docLinkHtml = 'Like what you see? Visit the ' +\n",
              "            '<a target=\"_blank\" href=https://colab.research.google.com/notebooks/data_table.ipynb>data table notebook</a>'\n",
              "            + ' to learn more about interactive tables.';\n",
              "          element.innerHTML = '';\n",
              "          dataTable['output_type'] = 'display_data';\n",
              "          await google.colab.output.renderOutput(dataTable, element);\n",
              "          const docLink = document.createElement('div');\n",
              "          docLink.innerHTML = docLinkHtml;\n",
              "          element.appendChild(docLink);\n",
              "        }\n",
              "      </script>\n",
              "    </div>\n",
              "  </div>\n",
              "  "
            ]
          },
          "metadata": {},
          "execution_count": 1
        }
      ],
      "source": [
        "import pandas as pd\n",
        "import numpy as np\n",
        "from google.colab import drive\n",
        "\n",
        "drive.mount('/content/gdrive')\n",
        "location = r'/content/gdrive/MyDrive/Data Mining/hw1/eclass_all_with_sentiment_v2.pkl'\n",
        "dataAll = pd.read_pickle(location)\n",
        "dataAll.head()"
      ]
    },
    {
      "cell_type": "markdown",
      "metadata": {
        "id": "6Zo92uDwGpCC"
      },
      "source": [
        "##**Ερώτημα 1: Προεπεξεργασία και καθάρισμα των δεδομένων**"
      ]
    },
    {
      "cell_type": "markdown",
      "metadata": {
        "id": "Sk39bbdq9Lln"
      },
      "source": [
        "Αρχικά αφαιρούμε όλες τις σειρές που περιέχουν κάποια κενή τιμή σε στήλη όπου αυτό δεν επιτρέπεται. Στη συνέχεια \"καθαρίζουμε\" τα δεδομένα της στήλης text μετατρέποντας όλους τους χαρακτήρες σε μικρούς και αφαιρώντας σύμβολα, σημεία στίξης και stopwords."
      ]
    },
    {
      "cell_type": "code",
      "execution_count": null,
      "metadata": {
        "colab": {
          "base_uri": "https://localhost:8080/"
        },
        "id": "OK9fGwdKsW8w",
        "outputId": "775ec5a7-181d-44ec-a726-de5d167eb493"
      },
      "outputs": [
        {
          "output_type": "stream",
          "name": "stderr",
          "text": [
            "[nltk_data] Downloading package stopwords to /root/nltk_data...\n",
            "[nltk_data]   Unzipping corpora/stopwords.zip.\n"
          ]
        }
      ],
      "source": [
        "import nltk\n",
        "\n",
        "from nltk.corpus import stopwords\n",
        "\n",
        "\n",
        "nltk.download('stopwords')\n",
        "\n",
        "STOP_WORDS = stopwords.words()\n",
        "\n",
        "dataAll[\"text\"] = dataAll[\"text\"].str.lower()\n",
        "dataAll[\"text\"].replace(r\"https?://\\S+|www\\.\\S+\", \"\", regex=True, inplace=True)\n",
        "dataAll[\"text\"].replace(r'-', ' ', regex=True, inplace=True)\n",
        "dataAll[\"text\"].replace(r'_', ' ', regex=True, inplace=True)\n",
        "dataAll[\"text\"].replace(r'[^\\w\\s@#]', '', regex=True, inplace=True)\n",
        "dataAll[\"text\"].replace(r\"@\\w{4,15}\", \"\", regex=True, inplace=True)\n",
        "dataAll[\"text\"].replace(r'#|@', '', regex=True, inplace=True)\n",
        "dataAll[\"text\"].replace(r\"\\d{1,}\", \"\", regex=True, inplace=True)\n",
        "dataAll[\"text\"].replace(r\"\\s{1,}\", \" \", regex=True, inplace=True)\n",
        "dataAll['text'] = dataAll['text'].apply(lambda x: ' '.join([word for word in x.split() if word not in (STOP_WORDS)]))\n",
        "\n",
        "dataAll.replace(r'^\\s*$', float('NaN'), regex=True,inplace=True)\n",
        "dataAll = dataAll.dropna(subset=['id', 'text', 'sentiment'])\n",
        "\n",
        "dataAll = dataAll[(dataAll['sentiment'] == \"NEU\") | (dataAll['sentiment'] == \"POS\") | (dataAll['sentiment'] == \"NEG\")]"
      ]
    },
    {
      "cell_type": "markdown",
      "metadata": {
        "id": "Q-qsaxmG9gdO"
      },
      "source": [
        "Στη συνέχεια, χωρίζουμε τα δεδομένα σε train και test sets και τα αποθηκεύουμε σε .csv αρχεία. Επειδή ο όγκος των δεδομένων ήταν πολύ μεγάλος και η εξαγωγή αποτελεσμάτων ήταν υπερβολικά χρονοβόρα (>8 ώρες, χωρίς αποτέλεσμα), για τα ερωτήματα 3 και 4 χρησιμοποιήσαμε μόνο το 10% των συνολικών δεδομένων."
      ]
    },
    {
      "cell_type": "code",
      "execution_count": null,
      "metadata": {
        "id": "4KYwj6MHrUgA"
      },
      "outputs": [],
      "source": [
        "from sklearn.model_selection import train_test_split\n",
        "\n",
        "sampleData = dataAll.sample(frac=0.1)\n",
        "\n",
        "train, test = train_test_split(sampleData, train_size=0.8)"
      ]
    },
    {
      "cell_type": "code",
      "execution_count": null,
      "metadata": {
        "id": "fbk9RRSKtGfp"
      },
      "outputs": [],
      "source": [
        "train.to_csv('/content/gdrive/MyDrive/Data Mining/hw1/train.csv', header=True, index=False,columns = ['id','text','sentiment'])\n",
        "test.to_csv('/content/gdrive/MyDrive/Data Mining/hw1/test.csv', header=True, index=False,columns = ['id','text','sentiment'])"
      ]
    },
    {
      "cell_type": "markdown",
      "metadata": {
        "id": "9w-rmrRK1kpd"
      },
      "source": [
        "##**Ερώτημα 2: Ανάλυση των δεδομένων**"
      ]
    },
    {
      "cell_type": "markdown",
      "metadata": {
        "id": "rqE_4paR2K0_"
      },
      "source": [
        "###Ερώτημα 2.1"
      ]
    },
    {
      "cell_type": "code",
      "execution_count": null,
      "metadata": {
        "colab": {
          "base_uri": "https://localhost:8080/",
          "height": 268
        },
        "id": "AlRK1E37dD7o",
        "outputId": "03e7eccc-c875-4c6b-b9ac-9b2b2a6a1e58"
      },
      "outputs": [
        {
          "data": {
            "image/png": "[encoded data removed]",
            "text/plain": [
              "<Figure size 432x288 with 1 Axes>"
            ]
          },
          "metadata": {},
          "output_type": "display_data"
        }
      ],
      "source": [
        "import matplotlib.pyplot as plt\n",
        "\n",
        "count = dataAll['sentiment'].value_counts()\n",
        "labels = 'POSITIVE', 'NEGATIVE', 'NEUTRAL'\n",
        "sizes = [count['POS']/dataAll.shape[0]*100, count['NEG']/dataAll.shape[0]*100, count['NEU']/dataAll.shape[0]*100]\n",
        "explode = (0.1, 0, 0)\n",
        "fig1, ax1 = plt.subplots()\n",
        "ax1.pie(sizes, explode=explode, labels=labels, autopct='%1.1f%%', shadow=True, startangle=90)\n",
        "ax1.axis('equal')\n",
        "plt.title(\"Sentiment Allocation\", fontsize=18, fontweight=\"bold\")\n",
        "plt.show()"
      ]
    },
    {
      "cell_type": "markdown",
      "metadata": {
        "id": "3JWg3-fy2T8z"
      },
      "source": [
        "###Ερώτημα 2.2"
      ]
    },
    {
      "cell_type": "code",
      "execution_count": null,
      "metadata": {
        "colab": {
          "base_uri": "https://localhost:8080/",
          "height": 690
        },
        "id": "hMr7sASvoNBy",
        "outputId": "6e19f8cb-2972-4fb0-de0d-44e5bd0a4de4"
      },
      "outputs": [
        {
          "data": {
            "image/png": "[encoded data removed]",
            "text/plain": [
              "<Figure size 1440x720 with 1 Axes>"
            ]
          },
          "metadata": {},
          "output_type": "display_data"
        }
      ],
      "source": [
        "from collections import Counter\n",
        "\n",
        "word_count = Counter(\" \".join(dataAll[\"text\"]).split()).most_common(50)\n",
        "word_frequency = pd.DataFrame(word_count, columns=['Word', 'Frequency'])\n",
        "plt.figure(figsize=(20, 10))\n",
        "plt.bar(word_frequency['Word'], word_frequency['Frequency'])\n",
        "plt.xticks(rotation=90)\n",
        "plt.xlabel(\"Words\", fontsize=12)\n",
        "plt.ylabel(\"Occurrences\", fontsize=12)\n",
        "plt.title(\"Top 50 words in all tweets\", fontsize=18, fontweight=\"bold\")\n",
        "plt.show()"
      ]
    },
    {
      "cell_type": "markdown",
      "metadata": {
        "id": "S3VhH1832Ynb"
      },
      "source": [
        "###Ερώτημα 2.3"
      ]
    },
    {
      "cell_type": "code",
      "execution_count": null,
      "metadata": {
        "colab": {
          "base_uri": "https://localhost:8080/",
          "height": 690
        },
        "id": "rYLMZorfqOYA",
        "outputId": "de964f07-d77c-4f94-852b-696614eb3270"
      },
      "outputs": [
        {
          "data": {
            "image/png": "[encoded data removed]",
            "text/plain": [
              "<Figure size 1440x720 with 1 Axes>"
            ]
          },
          "metadata": {},
          "output_type": "display_data"
        }
      ],
      "source": [
        "word_count = Counter(\" \".join(dataAll[\"text\"].loc[dataAll[\"sentiment\"] == \"NEG\"]).split()).most_common(50)\n",
        "word_frequency = pd.DataFrame(word_count, columns=['Word', 'Frequency'])\n",
        "plt.figure(figsize=(20, 10))\n",
        "plt.bar(word_frequency['Word'], word_frequency['Frequency'])\n",
        "plt.xticks(rotation=90)\n",
        "plt.xlabel(\"Words\", fontsize=12)\n",
        "plt.ylabel(\"Occurrences\", fontsize=12)\n",
        "plt.title(\"Top 50 words in negative tweets\", fontsize=18, fontweight=\"bold\")\n",
        "plt.show()"
      ]
    },
    {
      "cell_type": "code",
      "execution_count": null,
      "metadata": {
        "colab": {
          "base_uri": "https://localhost:8080/",
          "height": 690
        },
        "id": "lkIp2-KMqcMY",
        "outputId": "4257b160-f988-4e1a-a13c-3e501a15df6b"
      },
      "outputs": [
        {
          "data": {
            "image/png": "[encoded data removed]",
            "text/plain": [
              "<Figure size 1440x720 with 1 Axes>"
            ]
          },
          "metadata": {},
          "output_type": "display_data"
        }
      ],
      "source": [
        "word_count = Counter(\" \".join(dataAll[\"text\"].loc[dataAll[\"sentiment\"] == \"POS\"]).split()).most_common(50)\n",
        "word_frequency = pd.DataFrame(word_count, columns=['Word', 'Frequency'])\n",
        "plt.figure(figsize=(20, 10))\n",
        "plt.bar(word_frequency['Word'], word_frequency['Frequency'])\n",
        "plt.xticks(rotation=90)\n",
        "plt.xlabel(\"Words\", fontsize=12)\n",
        "plt.ylabel(\"Occurrences\", fontsize=12)\n",
        "plt.title(\"Top 50 words in positive tweets\", fontsize=18, fontweight=\"bold\")\n",
        "plt.show()"
      ]
    },
    {
      "cell_type": "code",
      "execution_count": null,
      "metadata": {
        "colab": {
          "base_uri": "https://localhost:8080/",
          "height": 690
        },
        "id": "r-hjSfIOqdAP",
        "outputId": "bdc078ed-2a74-4afc-9ec8-a482f57a1514"
      },
      "outputs": [
        {
          "data": {
            "image/png": "[encoded data removed]",
            "text/plain": [
              "<Figure size 1440x720 with 1 Axes>"
            ]
          },
          "metadata": {},
          "output_type": "display_data"
        }
      ],
      "source": [
        "word_count = Counter(\" \".join(dataAll[\"text\"].loc[dataAll[\"sentiment\"] == \"NEU\"]).split()).most_common(50)\n",
        "word_frequency = pd.DataFrame(word_count, columns = ['Word', 'Frequency'])\n",
        "plt.figure(figsize=(20, 10))\n",
        "plt.bar(word_frequency['Word'], word_frequency['Frequency'])\n",
        "plt.xticks(rotation = 90)\n",
        "plt.xlabel(\"Words\", fontsize=12)\n",
        "plt.ylabel(\"Occurrences\", fontsize=12)\n",
        "plt.title(\"Top 50 words in neutral tweets\", fontsize=18, fontweight=\"bold\")\n",
        "plt.show()"
      ]
    },
    {
      "cell_type": "markdown",
      "metadata": {
        "id": "hcaV2sxS2dSu"
      },
      "source": [
        "###Ερώτημα 2.4"
      ]
    },
    {
      "cell_type": "code",
      "execution_count": null,
      "metadata": {
        "colab": {
          "base_uri": "https://localhost:8080/",
          "height": 453
        },
        "id": "yhs8ui0vzuM3",
        "outputId": "c38998c8-7cf9-4409-e0ec-31c89ced2cd7"
      },
      "outputs": [
        {
          "data": {
            "image/png": "[encoded data removed]",
            "text/plain": [
              "<Figure size 1152x1152 with 2 Axes>"
            ]
          },
          "metadata": {},
          "output_type": "display_data"
        }
      ],
      "source": [
        "tweets_astra = dataAll[dataAll[\"text\"].str.contains(\"astrazeneca\")]\n",
        "count_astra = tweets_astra['sentiment'].value_counts()\n",
        "sizes_astra = [count_astra['POS']/tweets_astra.shape[0]*100, count_astra['NEG']/tweets_astra.shape[0]*100, count_astra['NEU']/tweets_astra.shape[0]*100]\n",
        "\n",
        "tweets_other = dataAll[dataAll[\"text\"].str.contains(\"moderna|pfizer|biontech\")]\n",
        "count_other = tweets_other['sentiment'].value_counts()\n",
        "sizes_other = [count_other['POS']/tweets_other.shape[0]*100, count_other['NEG']/tweets_other.shape[0]*100, count_other['NEU']/tweets_other.shape[0]*100]\n",
        "\n",
        "\n",
        "labels = 'POSITIVE', 'NEGATIVE', 'NEUTRAL'\n",
        "\n",
        "explode = (0.1, 0, 0)\n",
        "\n",
        "fig, (ax1, ax2) = plt.subplots(1, 2, figsize=(16, 16))\n",
        "\n",
        "ax1.pie(sizes_astra, explode=explode, labels=labels, autopct='%1.1f%%', shadow=True, startangle=90)\n",
        "ax1.title.set_text(\"Sentiment Allocation AstraZeneca\")\n",
        "\n",
        "ax2.pie(sizes_other, explode=explode, labels=labels, autopct='%1.1f%%', shadow=True, startangle=90)\n",
        "ax2.title.set_text(\"Sentiment Allocation Moderna/Pfizer\")\n",
        "\n",
        "plt.show()"
      ]
    },
    {
      "cell_type": "markdown",
      "metadata": {
        "id": "IKHaZgNo2g8e"
      },
      "source": [
        "###Ερώτημα 2.5"
      ]
    },
    {
      "cell_type": "code",
      "execution_count": null,
      "metadata": {
        "colab": {
          "base_uri": "https://localhost:8080/",
          "height": 629
        },
        "id": "iw3IEl0jjWsB",
        "outputId": "2401cfd9-3d10-47b4-8613-f5ac50212a4f"
      },
      "outputs": [
        {
          "data": {
            "image/png": "[encoded data removed]",
            "text/plain": [
              "<Figure size 1440x720 with 1 Axes>"
            ]
          },
          "metadata": {},
          "output_type": "display_data"
        }
      ],
      "source": [
        "dataAll = dataAll.set_index(pd.to_datetime(dataAll['date'], format='%Y-%m-%d %H:%M:%S'))\n",
        "\n",
        "tweetsPerMonth = dataAll.groupby(pd.Grouper(freq=\"M\")).size()\n",
        "tweetsPerMonth.index = tweetsPerMonth.index.strftime(\"%m/%Y\")\n",
        "\n",
        "fig, ax = plt.subplots(nrows=1, ncols=1, figsize=(20, 10))\n",
        "ax.bar(tweetsPerMonth.index, tweetsPerMonth)\n",
        "plt.xlabel(\"Month\", fontsize=12)\n",
        "plt.ylabel(\"Tweets\", fontsize=12)\n",
        "plt.title(\"Number of tweets per Month\", fontsize=18, fontweight=\"bold\")\n",
        "plt.show()\n",
        "\n",
        "dataAll = dataAll.reset_index(drop=True)"
      ]
    },
    {
      "cell_type": "markdown",
      "metadata": {
        "id": "4UMh6Z4w5vQ5"
      },
      "source": [
        "Παρατηρούμε ότι υπήρξε πολύ μεγάλη αύξηση στον όγκο των tweets σετικά με τον COVID-19 κατά τους μήνες Φεβρουάριο, Μάρτιο και Ιούνιο του 2021, σχετικά με τους προηγούμενούς τους. Αυτό μπορεί να εξηγηθέι αν ληφθούν υπόψη τα εξής γεγονότα:"
      ]
    },
    {
      "cell_type": "markdown",
      "metadata": {
        "id": "qurPGYAl6f0D"
      },
      "source": [
        "**Φεβρουάριος 2021**\n",
        "* Johnson & Johnson asks the FDA to issue an emergency use authorization for its COVID-19 vaccine.\n",
        "* Global COVID-19 death toll passes 2.5 million.\n",
        "* Bahrain becomes the first country to approve the single-dose Johnson & Johnson COVID-19 vaccine for emergency use."
      ]
    },
    {
      "cell_type": "markdown",
      "metadata": {
        "id": "5Gmxl-9o6hLp"
      },
      "source": [
        "**Μάρτιος 2021**\n",
        "* The World Health Organization approves Johnson & Johnson's vaccine for emergency use.\n",
        "* The European Commission proposes an EU vaccine passport: the Digital Green Certificate.\n",
        "* European Medicine Agency finds no links between AstraZeneca vaccine and increased blood-clotting.\n",
        "* WHO releases its report on the origins of SARS-CoV-2, finding that animal-to-human transmission was the most likely origin of the virus."
      ]
    },
    {
      "cell_type": "markdown",
      "metadata": {
        "id": "jIWS9zhx6tGk"
      },
      "source": [
        "**Ιούνιος 2021**\n",
        "* WHO approves the Sinovac vaccine for emergency use.\n",
        "* The world reaches one billion vaccine doses administered.\n",
        "* China approves Sinovac for use in children as young as three, becoming the first country to approve a COVID-19 vaccine for use among such a young age group.\n",
        "* WHO announces that the Delta variant is likely to become globally dominant.\n",
        "* Tokyo cancels all Olympic public viewing events due to COVID-19.\n",
        "* A study finds that AstraZeneca’s COVID-19 vaccine is effective against the Delta and Kappa variants.\n",
        "* The European Union reaches 60 percent of adults vaccinated with at least one shot and 41 percent fully vaccinated."
      ]
    },
    {
      "cell_type": "markdown",
      "metadata": {
        "id": "9JUjaKqt73j6"
      },
      "source": [
        "###Ερώτημα 2.6"
      ]
    },
    {
      "cell_type": "markdown",
      "metadata": {
        "id": "mrMBKt3s75y5"
      },
      "source": [
        "Από τα αποτελέμσατα των παραπάνω ερωτημάτων παρατηρούνται τα εξής:\n",
        "* Με βάση τα δεδομένα των ερωτημάτων 2.2 και 2.3, παρατηρούμε ότι το εμβόλιο της Moderna εμφανιζόταν σε πολύ μεγαλύτερο αριθμό tweets σε σχέση με τα εμβόλια των υπόλοιπων εταιρειών. Αξιοσημείωτο, επίσης, είναι το γεγονός ότι το εμβόλιο αυτό εμφανιζόταν τις περισσότερες φορές από κάθε άλλο και στα tweets θετικού και σε αυτά αρνητικού συναισθήματος.\n",
        "* Από το ερώτημα 2.1 παρατηρούμε ότι παρόλο που ο COVID-19 και τα εμβόλια κατά αυτού υπήρξαν θέμα συζήτησης για πάνω από 12 μήνες, η μεγάλη πλειονότητα (3/4) των tweets σχετικά με αυτά είχε ουδέτερο συναίσθημα, γεγονός που δείχνει ότι οι περισσότεροι άνθρωποι δεν είχαν σχηματίσει συγκεκριμένη άποψη για το θέμα."
      ]
    },
    {
      "cell_type": "markdown",
      "metadata": {
        "id": "_LA9DCPb2k0H"
      },
      "source": [
        "##**Ερώτημα 3: Vectorization - Εξαγωγή χαρακτηριστικών**"
      ]
    },
    {
      "cell_type": "code",
      "execution_count": null,
      "metadata": {
        "id": "0bRaL3-2r6uu"
      },
      "outputs": [],
      "source": [
        "trainDf = pd.read_csv(r'/content/gdrive/MyDrive/Data Mining/hw1/train.csv')\n",
        "x_train = trainDf['text']\n",
        "y_train = trainDf['sentiment'].tolist()\n",
        "\n",
        "testDf = pd.read_csv(r'/content/gdrive/MyDrive/Data Mining/hw1/test.csv')\n",
        "x_test = testDf['text']\n",
        "y_test = testDf['sentiment'].tolist()"
      ]
    },
    {
      "cell_type": "markdown",
      "metadata": {
        "id": "SIhJJZQN2qHZ"
      },
      "source": [
        "###Ερώτημα 3.1"
      ]
    },
    {
      "cell_type": "code",
      "source": [
        "type(x_train)"
      ],
      "metadata": {
        "colab": {
          "base_uri": "https://localhost:8080/"
        },
        "id": "8BUoVIN2Ib7X",
        "outputId": "796a5edc-cc80-4a47-eb16-df04462578c1"
      },
      "execution_count": null,
      "outputs": [
        {
          "output_type": "execute_result",
          "data": {
            "text/plain": [
              "pandas.core.series.Series"
            ]
          },
          "metadata": {},
          "execution_count": 6
        }
      ]
    },
    {
      "cell_type": "code",
      "source": [
        "x_train.shape"
      ],
      "metadata": {
        "colab": {
          "base_uri": "https://localhost:8080/"
        },
        "id": "w7Z4bSKAIfxv",
        "outputId": "b26ae526-2f99-4fc4-90fe-829db287a885"
      },
      "execution_count": null,
      "outputs": [
        {
          "output_type": "execute_result",
          "data": {
            "text/plain": [
              "(18238,)"
            ]
          },
          "metadata": {},
          "execution_count": 8
        }
      ]
    },
    {
      "cell_type": "code",
      "source": [
        "x_train.head()"
      ],
      "metadata": {
        "colab": {
          "base_uri": "https://localhost:8080/"
        },
        "id": "mV43PWRVIhmv",
        "outputId": "ade581b5-2ded-443d-c10c-7a459258789b"
      },
      "execution_count": null,
      "outputs": [
        {
          "output_type": "execute_result",
          "data": {
            "text/plain": [
              "0    bbmp bengaluru covidvaccine availability free ...\n",
              "1        beloved pm efforts vaccination vaccinecentury\n",
              "2    age slots covaxin alleviate diagnostic centerr...\n",
              "3    remove background nowperfectclippingpathab div...\n",
              "4    baber embarrassing ontario reporting cases cov...\n",
              "Name: text, dtype: object"
            ]
          },
          "metadata": {},
          "execution_count": 9
        }
      ]
    },
    {
      "cell_type": "code",
      "execution_count": null,
      "metadata": {
        "colab": {
          "base_uri": "https://localhost:8080/",
          "height": 423
        },
        "id": "bN9jIQeqixqv",
        "outputId": "508cac69-d190-4575-b095-1e2fde7b402f"
      },
      "outputs": [
        {
          "output_type": "display_data",
          "data": {
            "text/plain": [
              "       administered  age  aged  ages  already  amp  another  anyone  apollo  \\\n",
              "0                 0    0     0     0        0    0        0       0       0   \n",
              "1                 0    0     0     0        0    0        0       0       0   \n",
              "2                 0    0     0     0        0    0        0       0       0   \n",
              "3                 0    0     0     0        0    0        0       0       0   \n",
              "4                 0    0     0     0        0    0        0       0       0   \n",
              "...             ...  ...   ...   ...      ...  ...      ...     ...     ...   \n",
              "18235             0    0     0     0        0    0        0       0       0   \n",
              "18236             0    0     0     0        0    0        0       0       0   \n",
              "18237             0    1     0     0        0    0        0       0       1   \n",
              "18238             0    0     0     0        0    0        0       0       0   \n",
              "18239             0    0     0     0        0    0        0       0       0   \n",
              "\n",
              "       approval  ...  week  weeks  well  work  world  would  year  years  \\\n",
              "0             0  ...     0      0     0     0      0      0     0      0   \n",
              "1             0  ...     0      0     0     0      0      0     0      0   \n",
              "2             1  ...     0      0     0     0      3      0     0      0   \n",
              "3             0  ...     0      0     0     0      0      0     0      0   \n",
              "4             0  ...     0      0     0     0      0      0     0      0   \n",
              "...         ...  ...   ...    ...   ...   ...    ...    ...   ...    ...   \n",
              "18235         0  ...     0      0     0     0      0      0     0      0   \n",
              "18236         0  ...     0      1     0     0      0      0     0      0   \n",
              "18237         0  ...     0      0     0     0      0      0     0      0   \n",
              "18238         1  ...     0      0     0     0      0      0     0      0   \n",
              "18239         0  ...     0      0     0     0      0      0     0      0   \n",
              "\n",
              "       yesterday  yet  \n",
              "0              0    0  \n",
              "1              0    0  \n",
              "2              0    0  \n",
              "3              0    0  \n",
              "4              1    0  \n",
              "...          ...  ...  \n",
              "18235          0    0  \n",
              "18236          0    0  \n",
              "18237          0    0  \n",
              "18238          0    0  \n",
              "18239          0    0  \n",
              "\n",
              "[18240 rows x 230 columns]"
            ],
            "text/html": [
              "\n",
              "  <div id=\"df-81f8dcde-9bf0-4f24-8616-8a7886006d2f\">\n",
              "    <div class=\"colab-df-container\">\n",
              "      <div>\n",
              "<style scoped>\n",
              "    .dataframe tbody tr th:only-of-type {\n",
              "        vertical-align: middle;\n",
              "    }\n",
              "\n",
              "    .dataframe tbody tr th {\n",
              "        vertical-align: top;\n",
              "    }\n",
              "\n",
              "    .dataframe thead th {\n",
              "        text-align: right;\n",
              "    }\n",
              "</style>\n",
              "<table border=\"1\" class=\"dataframe\">\n",
              "  <thead>\n",
              "    <tr style=\"text-align: right;\">\n",
              "      <th></th>\n",
              "      <th>administered</th>\n",
              "      <th>age</th>\n",
              "      <th>aged</th>\n",
              "      <th>ages</th>\n",
              "      <th>already</th>\n",
              "      <th>amp</th>\n",
              "      <th>another</th>\n",
              "      <th>anyone</th>\n",
              "      <th>apollo</th>\n",
              "      <th>approval</th>\n",
              "      <th>...</th>\n",
              "      <th>week</th>\n",
              "      <th>weeks</th>\n",
              "      <th>well</th>\n",
              "      <th>work</th>\n",
              "      <th>world</th>\n",
              "      <th>would</th>\n",
              "      <th>year</th>\n",
              "      <th>years</th>\n",
              "      <th>yesterday</th>\n",
              "      <th>yet</th>\n",
              "    </tr>\n",
              "  </thead>\n",
              "  <tbody>\n",
              "    <tr>\n",
              "      <th>0</th>\n",
              "      <td>0</td>\n",
              "      <td>0</td>\n",
              "      <td>0</td>\n",
              "      <td>0</td>\n",
              "      <td>0</td>\n",
              "      <td>0</td>\n",
              "      <td>0</td>\n",
              "      <td>0</td>\n",
              "      <td>0</td>\n",
              "      <td>0</td>\n",
              "      <td>...</td>\n",
              "      <td>0</td>\n",
              "      <td>0</td>\n",
              "      <td>0</td>\n",
              "      <td>0</td>\n",
              "      <td>0</td>\n",
              "      <td>0</td>\n",
              "      <td>0</td>\n",
              "      <td>0</td>\n",
              "      <td>0</td>\n",
              "      <td>0</td>\n",
              "    </tr>\n",
              "    <tr>\n",
              "      <th>1</th>\n",
              "      <td>0</td>\n",
              "      <td>0</td>\n",
              "      <td>0</td>\n",
              "      <td>0</td>\n",
              "      <td>0</td>\n",
              "      <td>0</td>\n",
              "      <td>0</td>\n",
              "      <td>0</td>\n",
              "      <td>0</td>\n",
              "      <td>0</td>\n",
              "      <td>...</td>\n",
              "      <td>0</td>\n",
              "      <td>0</td>\n",
              "      <td>0</td>\n",
              "      <td>0</td>\n",
              "      <td>0</td>\n",
              "      <td>0</td>\n",
              "      <td>0</td>\n",
              "      <td>0</td>\n",
              "      <td>0</td>\n",
              "      <td>0</td>\n",
              "    </tr>\n",
              "    <tr>\n",
              "      <th>2</th>\n",
              "      <td>0</td>\n",
              "      <td>0</td>\n",
              "      <td>0</td>\n",
              "      <td>0</td>\n",
              "      <td>0</td>\n",
              "      <td>0</td>\n",
              "      <td>0</td>\n",
              "      <td>0</td>\n",
              "      <td>0</td>\n",
              "      <td>1</td>\n",
              "      <td>...</td>\n",
              "      <td>0</td>\n",
              "      <td>0</td>\n",
              "      <td>0</td>\n",
              "      <td>0</td>\n",
              "      <td>3</td>\n",
              "      <td>0</td>\n",
              "      <td>0</td>\n",
              "      <td>0</td>\n",
              "      <td>0</td>\n",
              "      <td>0</td>\n",
              "    </tr>\n",
              "    <tr>\n",
              "      <th>3</th>\n",
              "      <td>0</td>\n",
              "      <td>0</td>\n",
              "      <td>0</td>\n",
              "      <td>0</td>\n",
              "      <td>0</td>\n",
              "      <td>0</td>\n",
              "      <td>0</td>\n",
              "      <td>0</td>\n",
              "      <td>0</td>\n",
              "      <td>0</td>\n",
              "      <td>...</td>\n",
              "      <td>0</td>\n",
              "      <td>0</td>\n",
              "      <td>0</td>\n",
              "      <td>0</td>\n",
              "      <td>0</td>\n",
              "      <td>0</td>\n",
              "      <td>0</td>\n",
              "      <td>0</td>\n",
              "      <td>0</td>\n",
              "      <td>0</td>\n",
              "    </tr>\n",
              "    <tr>\n",
              "      <th>4</th>\n",
              "      <td>0</td>\n",
              "      <td>0</td>\n",
              "      <td>0</td>\n",
              "      <td>0</td>\n",
              "      <td>0</td>\n",
              "      <td>0</td>\n",
              "      <td>0</td>\n",
              "      <td>0</td>\n",
              "      <td>0</td>\n",
              "      <td>0</td>\n",
              "      <td>...</td>\n",
              "      <td>0</td>\n",
              "      <td>0</td>\n",
              "      <td>0</td>\n",
              "      <td>0</td>\n",
              "      <td>0</td>\n",
              "      <td>0</td>\n",
              "      <td>0</td>\n",
              "      <td>0</td>\n",
              "      <td>1</td>\n",
              "      <td>0</td>\n",
              "    </tr>\n",
              "    <tr>\n",
              "      <th>...</th>\n",
              "      <td>...</td>\n",
              "      <td>...</td>\n",
              "      <td>...</td>\n",
              "      <td>...</td>\n",
              "      <td>...</td>\n",
              "      <td>...</td>\n",
              "      <td>...</td>\n",
              "      <td>...</td>\n",
              "      <td>...</td>\n",
              "      <td>...</td>\n",
              "      <td>...</td>\n",
              "      <td>...</td>\n",
              "      <td>...</td>\n",
              "      <td>...</td>\n",
              "      <td>...</td>\n",
              "      <td>...</td>\n",
              "      <td>...</td>\n",
              "      <td>...</td>\n",
              "      <td>...</td>\n",
              "      <td>...</td>\n",
              "      <td>...</td>\n",
              "    </tr>\n",
              "    <tr>\n",
              "      <th>18235</th>\n",
              "      <td>0</td>\n",
              "      <td>0</td>\n",
              "      <td>0</td>\n",
              "      <td>0</td>\n",
              "      <td>0</td>\n",
              "      <td>0</td>\n",
              "      <td>0</td>\n",
              "      <td>0</td>\n",
              "      <td>0</td>\n",
              "      <td>0</td>\n",
              "      <td>...</td>\n",
              "      <td>0</td>\n",
              "      <td>0</td>\n",
              "      <td>0</td>\n",
              "      <td>0</td>\n",
              "      <td>0</td>\n",
              "      <td>0</td>\n",
              "      <td>0</td>\n",
              "      <td>0</td>\n",
              "      <td>0</td>\n",
              "      <td>0</td>\n",
              "    </tr>\n",
              "    <tr>\n",
              "      <th>18236</th>\n",
              "      <td>0</td>\n",
              "      <td>0</td>\n",
              "      <td>0</td>\n",
              "      <td>0</td>\n",
              "      <td>0</td>\n",
              "      <td>0</td>\n",
              "      <td>0</td>\n",
              "      <td>0</td>\n",
              "      <td>0</td>\n",
              "      <td>0</td>\n",
              "      <td>...</td>\n",
              "      <td>0</td>\n",
              "      <td>1</td>\n",
              "      <td>0</td>\n",
              "      <td>0</td>\n",
              "      <td>0</td>\n",
              "      <td>0</td>\n",
              "      <td>0</td>\n",
              "      <td>0</td>\n",
              "      <td>0</td>\n",
              "      <td>0</td>\n",
              "    </tr>\n",
              "    <tr>\n",
              "      <th>18237</th>\n",
              "      <td>0</td>\n",
              "      <td>1</td>\n",
              "      <td>0</td>\n",
              "      <td>0</td>\n",
              "      <td>0</td>\n",
              "      <td>0</td>\n",
              "      <td>0</td>\n",
              "      <td>0</td>\n",
              "      <td>1</td>\n",
              "      <td>0</td>\n",
              "      <td>...</td>\n",
              "      <td>0</td>\n",
              "      <td>0</td>\n",
              "      <td>0</td>\n",
              "      <td>0</td>\n",
              "      <td>0</td>\n",
              "      <td>0</td>\n",
              "      <td>0</td>\n",
              "      <td>0</td>\n",
              "      <td>0</td>\n",
              "      <td>0</td>\n",
              "    </tr>\n",
              "    <tr>\n",
              "      <th>18238</th>\n",
              "      <td>0</td>\n",
              "      <td>0</td>\n",
              "      <td>0</td>\n",
              "      <td>0</td>\n",
              "      <td>0</td>\n",
              "      <td>0</td>\n",
              "      <td>0</td>\n",
              "      <td>0</td>\n",
              "      <td>0</td>\n",
              "      <td>1</td>\n",
              "      <td>...</td>\n",
              "      <td>0</td>\n",
              "      <td>0</td>\n",
              "      <td>0</td>\n",
              "      <td>0</td>\n",
              "      <td>0</td>\n",
              "      <td>0</td>\n",
              "      <td>0</td>\n",
              "      <td>0</td>\n",
              "      <td>0</td>\n",
              "      <td>0</td>\n",
              "    </tr>\n",
              "    <tr>\n",
              "      <th>18239</th>\n",
              "      <td>0</td>\n",
              "      <td>0</td>\n",
              "      <td>0</td>\n",
              "      <td>0</td>\n",
              "      <td>0</td>\n",
              "      <td>0</td>\n",
              "      <td>0</td>\n",
              "      <td>0</td>\n",
              "      <td>0</td>\n",
              "      <td>0</td>\n",
              "      <td>...</td>\n",
              "      <td>0</td>\n",
              "      <td>0</td>\n",
              "      <td>0</td>\n",
              "      <td>0</td>\n",
              "      <td>0</td>\n",
              "      <td>0</td>\n",
              "      <td>0</td>\n",
              "      <td>0</td>\n",
              "      <td>0</td>\n",
              "      <td>0</td>\n",
              "    </tr>\n",
              "  </tbody>\n",
              "</table>\n",
              "<p>18240 rows × 230 columns</p>\n",
              "</div>\n",
              "      <button class=\"colab-df-convert\" onclick=\"convertToInteractive('df-81f8dcde-9bf0-4f24-8616-8a7886006d2f')\"\n",
              "              title=\"Convert this dataframe to an interactive table.\"\n",
              "              style=\"display:none;\">\n",
              "        \n",
              "  <svg xmlns=\"http://www.w3.org/2000/svg\" height=\"24px\"viewBox=\"0 0 24 24\"\n",
              "       width=\"24px\">\n",
              "    <path d=\"M0 0h24v24H0V0z\" fill=\"none\"/>\n",
              "    <path d=\"M18.56 5.44l.94 2.06.94-2.06 2.06-.94-2.06-.94-.94-2.06-.94 2.06-2.06.94zm-11 1L8.5 8.5l.94-2.06 2.06-.94-2.06-.94L8.5 2.5l-.94 2.06-2.06.94zm10 10l.94 2.06.94-2.06 2.06-.94-2.06-.94-.94-2.06-.94 2.06-2.06.94z\"/><path d=\"M17.41 7.96l-1.37-1.37c-.4-.4-.92-.59-1.43-.59-.52 0-1.04.2-1.43.59L10.3 9.45l-7.72 7.72c-.78.78-.78 2.05 0 2.83L4 21.41c.39.39.9.59 1.41.59.51 0 1.02-.2 1.41-.59l7.78-7.78 2.81-2.81c.8-.78.8-2.07 0-2.86zM5.41 20L4 18.59l7.72-7.72 1.47 1.35L5.41 20z\"/>\n",
              "  </svg>\n",
              "      </button>\n",
              "      \n",
              "  <style>\n",
              "    .colab-df-container {\n",
              "      display:flex;\n",
              "      flex-wrap:wrap;\n",
              "      gap: 12px;\n",
              "    }\n",
              "\n",
              "    .colab-df-convert {\n",
              "      background-color: #E8F0FE;\n",
              "      border: none;\n",
              "      border-radius: 50%;\n",
              "      cursor: pointer;\n",
              "      display: none;\n",
              "      fill: #1967D2;\n",
              "      height: 32px;\n",
              "      padding: 0 0 0 0;\n",
              "      width: 32px;\n",
              "    }\n",
              "\n",
              "    .colab-df-convert:hover {\n",
              "      background-color: #E2EBFA;\n",
              "      box-shadow: 0px 1px 2px rgba(60, 64, 67, 0.3), 0px 1px 3px 1px rgba(60, 64, 67, 0.15);\n",
              "      fill: #174EA6;\n",
              "    }\n",
              "\n",
              "    [theme=dark] .colab-df-convert {\n",
              "      background-color: #3B4455;\n",
              "      fill: #D2E3FC;\n",
              "    }\n",
              "\n",
              "    [theme=dark] .colab-df-convert:hover {\n",
              "      background-color: #434B5C;\n",
              "      box-shadow: 0px 1px 3px 1px rgba(0, 0, 0, 0.15);\n",
              "      filter: drop-shadow(0px 1px 2px rgba(0, 0, 0, 0.3));\n",
              "      fill: #FFFFFF;\n",
              "    }\n",
              "  </style>\n",
              "\n",
              "      <script>\n",
              "        const buttonEl =\n",
              "          document.querySelector('#df-81f8dcde-9bf0-4f24-8616-8a7886006d2f button.colab-df-convert');\n",
              "        buttonEl.style.display =\n",
              "          google.colab.kernel.accessAllowed ? 'block' : 'none';\n",
              "\n",
              "        async function convertToInteractive(key) {\n",
              "          const element = document.querySelector('#df-81f8dcde-9bf0-4f24-8616-8a7886006d2f');\n",
              "          const dataTable =\n",
              "            await google.colab.kernel.invokeFunction('convertToInteractive',\n",
              "                                                     [key], {});\n",
              "          if (!dataTable) return;\n",
              "\n",
              "          const docLinkHtml = 'Like what you see? Visit the ' +\n",
              "            '<a target=\"_blank\" href=https://colab.research.google.com/notebooks/data_table.ipynb>data table notebook</a>'\n",
              "            + ' to learn more about interactive tables.';\n",
              "          element.innerHTML = '';\n",
              "          dataTable['output_type'] = 'display_data';\n",
              "          await google.colab.output.renderOutput(dataTable, element);\n",
              "          const docLink = document.createElement('div');\n",
              "          docLink.innerHTML = docLinkHtml;\n",
              "          element.appendChild(docLink);\n",
              "        }\n",
              "      </script>\n",
              "    </div>\n",
              "  </div>\n",
              "  "
            ]
          },
          "metadata": {}
        }
      ],
      "source": [
        "import pickle\n",
        "from sklearn.feature_extraction.text import CountVectorizer\n",
        "\n",
        "count_vectorizer = CountVectorizer(min_df=0.005)\n",
        "bow_train = count_vectorizer.fit_transform(x_train.array)\n",
        "pickle.dump(bow_train, open('/content/gdrive/MyDrive/Data Mining/hw1/bow_train.pkl', 'wb'))\n",
        "\n",
        "display(pd.DataFrame(np.array(bow_train.toarray()), columns=count_vectorizer.get_feature_names_out()))"
      ]
    },
    {
      "cell_type": "markdown",
      "metadata": {
        "id": "bOop5KJZ2sL5"
      },
      "source": [
        "###Ερώτημα 3.2"
      ]
    },
    {
      "cell_type": "code",
      "execution_count": null,
      "metadata": {
        "colab": {
          "base_uri": "https://localhost:8080/",
          "height": 423
        },
        "id": "-txL7P1Vwswj",
        "outputId": "d0bc7e9d-485d-4c35-be0c-2b3865b64914"
      },
      "outputs": [
        {
          "output_type": "display_data",
          "data": {
            "text/plain": [
              "       administered       age  aged  ages  already  amp  another  anyone  \\\n",
              "0               0.0  0.000000   0.0   0.0      0.0  0.0      0.0     0.0   \n",
              "1               0.0  0.000000   0.0   0.0      0.0  0.0      0.0     0.0   \n",
              "2               0.0  0.000000   0.0   0.0      0.0  0.0      0.0     0.0   \n",
              "3               0.0  0.000000   0.0   0.0      0.0  0.0      0.0     0.0   \n",
              "4               0.0  0.000000   0.0   0.0      0.0  0.0      0.0     0.0   \n",
              "...             ...       ...   ...   ...      ...  ...      ...     ...   \n",
              "18235           0.0  0.000000   0.0   0.0      0.0  0.0      0.0     0.0   \n",
              "18236           0.0  0.000000   0.0   0.0      0.0  0.0      0.0     0.0   \n",
              "18237           0.0  0.287453   0.0   0.0      0.0  0.0      0.0     0.0   \n",
              "18238           0.0  0.000000   0.0   0.0      0.0  0.0      0.0     0.0   \n",
              "18239           0.0  0.000000   0.0   0.0      0.0  0.0      0.0     0.0   \n",
              "\n",
              "        apollo  approval  ...  week     weeks  well  work     world  would  \\\n",
              "0      0.00000  0.000000  ...   0.0  0.000000   0.0   0.0  0.000000    0.0   \n",
              "1      0.00000  0.000000  ...   0.0  0.000000   0.0   0.0  0.000000    0.0   \n",
              "2      0.00000  0.271616  ...   0.0  0.000000   0.0   0.0  0.865336    0.0   \n",
              "3      0.00000  0.000000  ...   0.0  0.000000   0.0   0.0  0.000000    0.0   \n",
              "4      0.00000  0.000000  ...   0.0  0.000000   0.0   0.0  0.000000    0.0   \n",
              "...        ...       ...  ...   ...       ...   ...   ...       ...    ...   \n",
              "18235  0.00000  0.000000  ...   0.0  0.000000   0.0   0.0  0.000000    0.0   \n",
              "18236  0.00000  0.000000  ...   0.0  0.800932   0.0   0.0  0.000000    0.0   \n",
              "18237  0.41964  0.000000  ...   0.0  0.000000   0.0   0.0  0.000000    0.0   \n",
              "18238  0.00000  0.788311  ...   0.0  0.000000   0.0   0.0  0.000000    0.0   \n",
              "18239  0.00000  0.000000  ...   0.0  0.000000   0.0   0.0  0.000000    0.0   \n",
              "\n",
              "       year  years  yesterday  yet  \n",
              "0       0.0    0.0   0.000000  0.0  \n",
              "1       0.0    0.0   0.000000  0.0  \n",
              "2       0.0    0.0   0.000000  0.0  \n",
              "3       0.0    0.0   0.000000  0.0  \n",
              "4       0.0    0.0   0.581874  0.0  \n",
              "...     ...    ...        ...  ...  \n",
              "18235   0.0    0.0   0.000000  0.0  \n",
              "18236   0.0    0.0   0.000000  0.0  \n",
              "18237   0.0    0.0   0.000000  0.0  \n",
              "18238   0.0    0.0   0.000000  0.0  \n",
              "18239   0.0    0.0   0.000000  0.0  \n",
              "\n",
              "[18240 rows x 230 columns]"
            ],
            "text/html": [
              "\n",
              "  <div id=\"df-db6b4447-a335-443d-9271-de937968307d\">\n",
              "    <div class=\"colab-df-container\">\n",
              "      <div>\n",
              "<style scoped>\n",
              "    .dataframe tbody tr th:only-of-type {\n",
              "        vertical-align: middle;\n",
              "    }\n",
              "\n",
              "    .dataframe tbody tr th {\n",
              "        vertical-align: top;\n",
              "    }\n",
              "\n",
              "    .dataframe thead th {\n",
              "        text-align: right;\n",
              "    }\n",
              "</style>\n",
              "<table border=\"1\" class=\"dataframe\">\n",
              "  <thead>\n",
              "    <tr style=\"text-align: right;\">\n",
              "      <th></th>\n",
              "      <th>administered</th>\n",
              "      <th>age</th>\n",
              "      <th>aged</th>\n",
              "      <th>ages</th>\n",
              "      <th>already</th>\n",
              "      <th>amp</th>\n",
              "      <th>another</th>\n",
              "      <th>anyone</th>\n",
              "      <th>apollo</th>\n",
              "      <th>approval</th>\n",
              "      <th>...</th>\n",
              "      <th>week</th>\n",
              "      <th>weeks</th>\n",
              "      <th>well</th>\n",
              "      <th>work</th>\n",
              "      <th>world</th>\n",
              "      <th>would</th>\n",
              "      <th>year</th>\n",
              "      <th>years</th>\n",
              "      <th>yesterday</th>\n",
              "      <th>yet</th>\n",
              "    </tr>\n",
              "  </thead>\n",
              "  <tbody>\n",
              "    <tr>\n",
              "      <th>0</th>\n",
              "      <td>0.0</td>\n",
              "      <td>0.000000</td>\n",
              "      <td>0.0</td>\n",
              "      <td>0.0</td>\n",
              "      <td>0.0</td>\n",
              "      <td>0.0</td>\n",
              "      <td>0.0</td>\n",
              "      <td>0.0</td>\n",
              "      <td>0.00000</td>\n",
              "      <td>0.000000</td>\n",
              "      <td>...</td>\n",
              "      <td>0.0</td>\n",
              "      <td>0.000000</td>\n",
              "      <td>0.0</td>\n",
              "      <td>0.0</td>\n",
              "      <td>0.000000</td>\n",
              "      <td>0.0</td>\n",
              "      <td>0.0</td>\n",
              "      <td>0.0</td>\n",
              "      <td>0.000000</td>\n",
              "      <td>0.0</td>\n",
              "    </tr>\n",
              "    <tr>\n",
              "      <th>1</th>\n",
              "      <td>0.0</td>\n",
              "      <td>0.000000</td>\n",
              "      <td>0.0</td>\n",
              "      <td>0.0</td>\n",
              "      <td>0.0</td>\n",
              "      <td>0.0</td>\n",
              "      <td>0.0</td>\n",
              "      <td>0.0</td>\n",
              "      <td>0.00000</td>\n",
              "      <td>0.000000</td>\n",
              "      <td>...</td>\n",
              "      <td>0.0</td>\n",
              "      <td>0.000000</td>\n",
              "      <td>0.0</td>\n",
              "      <td>0.0</td>\n",
              "      <td>0.000000</td>\n",
              "      <td>0.0</td>\n",
              "      <td>0.0</td>\n",
              "      <td>0.0</td>\n",
              "      <td>0.000000</td>\n",
              "      <td>0.0</td>\n",
              "    </tr>\n",
              "    <tr>\n",
              "      <th>2</th>\n",
              "      <td>0.0</td>\n",
              "      <td>0.000000</td>\n",
              "      <td>0.0</td>\n",
              "      <td>0.0</td>\n",
              "      <td>0.0</td>\n",
              "      <td>0.0</td>\n",
              "      <td>0.0</td>\n",
              "      <td>0.0</td>\n",
              "      <td>0.00000</td>\n",
              "      <td>0.271616</td>\n",
              "      <td>...</td>\n",
              "      <td>0.0</td>\n",
              "      <td>0.000000</td>\n",
              "      <td>0.0</td>\n",
              "      <td>0.0</td>\n",
              "      <td>0.865336</td>\n",
              "      <td>0.0</td>\n",
              "      <td>0.0</td>\n",
              "      <td>0.0</td>\n",
              "      <td>0.000000</td>\n",
              "      <td>0.0</td>\n",
              "    </tr>\n",
              "    <tr>\n",
              "      <th>3</th>\n",
              "      <td>0.0</td>\n",
              "      <td>0.000000</td>\n",
              "      <td>0.0</td>\n",
              "      <td>0.0</td>\n",
              "      <td>0.0</td>\n",
              "      <td>0.0</td>\n",
              "      <td>0.0</td>\n",
              "      <td>0.0</td>\n",
              "      <td>0.00000</td>\n",
              "      <td>0.000000</td>\n",
              "      <td>...</td>\n",
              "      <td>0.0</td>\n",
              "      <td>0.000000</td>\n",
              "      <td>0.0</td>\n",
              "      <td>0.0</td>\n",
              "      <td>0.000000</td>\n",
              "      <td>0.0</td>\n",
              "      <td>0.0</td>\n",
              "      <td>0.0</td>\n",
              "      <td>0.000000</td>\n",
              "      <td>0.0</td>\n",
              "    </tr>\n",
              "    <tr>\n",
              "      <th>4</th>\n",
              "      <td>0.0</td>\n",
              "      <td>0.000000</td>\n",
              "      <td>0.0</td>\n",
              "      <td>0.0</td>\n",
              "      <td>0.0</td>\n",
              "      <td>0.0</td>\n",
              "      <td>0.0</td>\n",
              "      <td>0.0</td>\n",
              "      <td>0.00000</td>\n",
              "      <td>0.000000</td>\n",
              "      <td>...</td>\n",
              "      <td>0.0</td>\n",
              "      <td>0.000000</td>\n",
              "      <td>0.0</td>\n",
              "      <td>0.0</td>\n",
              "      <td>0.000000</td>\n",
              "      <td>0.0</td>\n",
              "      <td>0.0</td>\n",
              "      <td>0.0</td>\n",
              "      <td>0.581874</td>\n",
              "      <td>0.0</td>\n",
              "    </tr>\n",
              "    <tr>\n",
              "      <th>...</th>\n",
              "      <td>...</td>\n",
              "      <td>...</td>\n",
              "      <td>...</td>\n",
              "      <td>...</td>\n",
              "      <td>...</td>\n",
              "      <td>...</td>\n",
              "      <td>...</td>\n",
              "      <td>...</td>\n",
              "      <td>...</td>\n",
              "      <td>...</td>\n",
              "      <td>...</td>\n",
              "      <td>...</td>\n",
              "      <td>...</td>\n",
              "      <td>...</td>\n",
              "      <td>...</td>\n",
              "      <td>...</td>\n",
              "      <td>...</td>\n",
              "      <td>...</td>\n",
              "      <td>...</td>\n",
              "      <td>...</td>\n",
              "      <td>...</td>\n",
              "    </tr>\n",
              "    <tr>\n",
              "      <th>18235</th>\n",
              "      <td>0.0</td>\n",
              "      <td>0.000000</td>\n",
              "      <td>0.0</td>\n",
              "      <td>0.0</td>\n",
              "      <td>0.0</td>\n",
              "      <td>0.0</td>\n",
              "      <td>0.0</td>\n",
              "      <td>0.0</td>\n",
              "      <td>0.00000</td>\n",
              "      <td>0.000000</td>\n",
              "      <td>...</td>\n",
              "      <td>0.0</td>\n",
              "      <td>0.000000</td>\n",
              "      <td>0.0</td>\n",
              "      <td>0.0</td>\n",
              "      <td>0.000000</td>\n",
              "      <td>0.0</td>\n",
              "      <td>0.0</td>\n",
              "      <td>0.0</td>\n",
              "      <td>0.000000</td>\n",
              "      <td>0.0</td>\n",
              "    </tr>\n",
              "    <tr>\n",
              "      <th>18236</th>\n",
              "      <td>0.0</td>\n",
              "      <td>0.000000</td>\n",
              "      <td>0.0</td>\n",
              "      <td>0.0</td>\n",
              "      <td>0.0</td>\n",
              "      <td>0.0</td>\n",
              "      <td>0.0</td>\n",
              "      <td>0.0</td>\n",
              "      <td>0.00000</td>\n",
              "      <td>0.000000</td>\n",
              "      <td>...</td>\n",
              "      <td>0.0</td>\n",
              "      <td>0.800932</td>\n",
              "      <td>0.0</td>\n",
              "      <td>0.0</td>\n",
              "      <td>0.000000</td>\n",
              "      <td>0.0</td>\n",
              "      <td>0.0</td>\n",
              "      <td>0.0</td>\n",
              "      <td>0.000000</td>\n",
              "      <td>0.0</td>\n",
              "    </tr>\n",
              "    <tr>\n",
              "      <th>18237</th>\n",
              "      <td>0.0</td>\n",
              "      <td>0.287453</td>\n",
              "      <td>0.0</td>\n",
              "      <td>0.0</td>\n",
              "      <td>0.0</td>\n",
              "      <td>0.0</td>\n",
              "      <td>0.0</td>\n",
              "      <td>0.0</td>\n",
              "      <td>0.41964</td>\n",
              "      <td>0.000000</td>\n",
              "      <td>...</td>\n",
              "      <td>0.0</td>\n",
              "      <td>0.000000</td>\n",
              "      <td>0.0</td>\n",
              "      <td>0.0</td>\n",
              "      <td>0.000000</td>\n",
              "      <td>0.0</td>\n",
              "      <td>0.0</td>\n",
              "      <td>0.0</td>\n",
              "      <td>0.000000</td>\n",
              "      <td>0.0</td>\n",
              "    </tr>\n",
              "    <tr>\n",
              "      <th>18238</th>\n",
              "      <td>0.0</td>\n",
              "      <td>0.000000</td>\n",
              "      <td>0.0</td>\n",
              "      <td>0.0</td>\n",
              "      <td>0.0</td>\n",
              "      <td>0.0</td>\n",
              "      <td>0.0</td>\n",
              "      <td>0.0</td>\n",
              "      <td>0.00000</td>\n",
              "      <td>0.788311</td>\n",
              "      <td>...</td>\n",
              "      <td>0.0</td>\n",
              "      <td>0.000000</td>\n",
              "      <td>0.0</td>\n",
              "      <td>0.0</td>\n",
              "      <td>0.000000</td>\n",
              "      <td>0.0</td>\n",
              "      <td>0.0</td>\n",
              "      <td>0.0</td>\n",
              "      <td>0.000000</td>\n",
              "      <td>0.0</td>\n",
              "    </tr>\n",
              "    <tr>\n",
              "      <th>18239</th>\n",
              "      <td>0.0</td>\n",
              "      <td>0.000000</td>\n",
              "      <td>0.0</td>\n",
              "      <td>0.0</td>\n",
              "      <td>0.0</td>\n",
              "      <td>0.0</td>\n",
              "      <td>0.0</td>\n",
              "      <td>0.0</td>\n",
              "      <td>0.00000</td>\n",
              "      <td>0.000000</td>\n",
              "      <td>...</td>\n",
              "      <td>0.0</td>\n",
              "      <td>0.000000</td>\n",
              "      <td>0.0</td>\n",
              "      <td>0.0</td>\n",
              "      <td>0.000000</td>\n",
              "      <td>0.0</td>\n",
              "      <td>0.0</td>\n",
              "      <td>0.0</td>\n",
              "      <td>0.000000</td>\n",
              "      <td>0.0</td>\n",
              "    </tr>\n",
              "  </tbody>\n",
              "</table>\n",
              "<p>18240 rows × 230 columns</p>\n",
              "</div>\n",
              "      <button class=\"colab-df-convert\" onclick=\"convertToInteractive('df-db6b4447-a335-443d-9271-de937968307d')\"\n",
              "              title=\"Convert this dataframe to an interactive table.\"\n",
              "              style=\"display:none;\">\n",
              "        \n",
              "  <svg xmlns=\"http://www.w3.org/2000/svg\" height=\"24px\"viewBox=\"0 0 24 24\"\n",
              "       width=\"24px\">\n",
              "    <path d=\"M0 0h24v24H0V0z\" fill=\"none\"/>\n",
              "    <path d=\"M18.56 5.44l.94 2.06.94-2.06 2.06-.94-2.06-.94-.94-2.06-.94 2.06-2.06.94zm-11 1L8.5 8.5l.94-2.06 2.06-.94-2.06-.94L8.5 2.5l-.94 2.06-2.06.94zm10 10l.94 2.06.94-2.06 2.06-.94-2.06-.94-.94-2.06-.94 2.06-2.06.94z\"/><path d=\"M17.41 7.96l-1.37-1.37c-.4-.4-.92-.59-1.43-.59-.52 0-1.04.2-1.43.59L10.3 9.45l-7.72 7.72c-.78.78-.78 2.05 0 2.83L4 21.41c.39.39.9.59 1.41.59.51 0 1.02-.2 1.41-.59l7.78-7.78 2.81-2.81c.8-.78.8-2.07 0-2.86zM5.41 20L4 18.59l7.72-7.72 1.47 1.35L5.41 20z\"/>\n",
              "  </svg>\n",
              "      </button>\n",
              "      \n",
              "  <style>\n",
              "    .colab-df-container {\n",
              "      display:flex;\n",
              "      flex-wrap:wrap;\n",
              "      gap: 12px;\n",
              "    }\n",
              "\n",
              "    .colab-df-convert {\n",
              "      background-color: #E8F0FE;\n",
              "      border: none;\n",
              "      border-radius: 50%;\n",
              "      cursor: pointer;\n",
              "      display: none;\n",
              "      fill: #1967D2;\n",
              "      height: 32px;\n",
              "      padding: 0 0 0 0;\n",
              "      width: 32px;\n",
              "    }\n",
              "\n",
              "    .colab-df-convert:hover {\n",
              "      background-color: #E2EBFA;\n",
              "      box-shadow: 0px 1px 2px rgba(60, 64, 67, 0.3), 0px 1px 3px 1px rgba(60, 64, 67, 0.15);\n",
              "      fill: #174EA6;\n",
              "    }\n",
              "\n",
              "    [theme=dark] .colab-df-convert {\n",
              "      background-color: #3B4455;\n",
              "      fill: #D2E3FC;\n",
              "    }\n",
              "\n",
              "    [theme=dark] .colab-df-convert:hover {\n",
              "      background-color: #434B5C;\n",
              "      box-shadow: 0px 1px 3px 1px rgba(0, 0, 0, 0.15);\n",
              "      filter: drop-shadow(0px 1px 2px rgba(0, 0, 0, 0.3));\n",
              "      fill: #FFFFFF;\n",
              "    }\n",
              "  </style>\n",
              "\n",
              "      <script>\n",
              "        const buttonEl =\n",
              "          document.querySelector('#df-db6b4447-a335-443d-9271-de937968307d button.colab-df-convert');\n",
              "        buttonEl.style.display =\n",
              "          google.colab.kernel.accessAllowed ? 'block' : 'none';\n",
              "\n",
              "        async function convertToInteractive(key) {\n",
              "          const element = document.querySelector('#df-db6b4447-a335-443d-9271-de937968307d');\n",
              "          const dataTable =\n",
              "            await google.colab.kernel.invokeFunction('convertToInteractive',\n",
              "                                                     [key], {});\n",
              "          if (!dataTable) return;\n",
              "\n",
              "          const docLinkHtml = 'Like what you see? Visit the ' +\n",
              "            '<a target=\"_blank\" href=https://colab.research.google.com/notebooks/data_table.ipynb>data table notebook</a>'\n",
              "            + ' to learn more about interactive tables.';\n",
              "          element.innerHTML = '';\n",
              "          dataTable['output_type'] = 'display_data';\n",
              "          await google.colab.output.renderOutput(dataTable, element);\n",
              "          const docLink = document.createElement('div');\n",
              "          docLink.innerHTML = docLinkHtml;\n",
              "          element.appendChild(docLink);\n",
              "        }\n",
              "      </script>\n",
              "    </div>\n",
              "  </div>\n",
              "  "
            ]
          },
          "metadata": {}
        }
      ],
      "source": [
        "from sklearn.feature_extraction.text import TfidfVectorizer\n",
        "\n",
        "tfidf_vectorizer = TfidfVectorizer(min_df=0.005)\n",
        "tfidf_train = tfidf_vectorizer.fit_transform(x_train.array)\n",
        "pickle.dump(tfidf_train, open('/content/gdrive/MyDrive/Data Mining/hw1/tfidf_train.pkl', 'wb'))\n",
        "\n",
        "display(pd.DataFrame(np.array(tfidf_train.toarray()), columns=tfidf_vectorizer.get_feature_names_out()))"
      ]
    },
    {
      "cell_type": "markdown",
      "metadata": {
        "id": "-jx5hzPp6Yw4"
      },
      "source": [
        "###Ερώτημα 3.3"
      ]
    },
    {
      "cell_type": "code",
      "execution_count": null,
      "metadata": {
        "id": "3wxlsZ6h6b3J"
      },
      "outputs": [],
      "source": [
        "from gensim.models import Word2Vec\n",
        "\n",
        "tokens = x_train.apply(lambda x: x.split())\n",
        "model_w2v = Word2Vec(tokens, size=100, window=5, min_count=10, sg=1, hs=0, negative=10, workers=2, seed=34)\n",
        "model_w2v.wv.save(\"/content/gdrive/MyDrive/Data Mining/hw1/model_w2v.pkl\")"
      ]
    },
    {
      "cell_type": "markdown",
      "metadata": {
        "id": "9GDNqtFDVipE"
      },
      "source": [
        "##**Ερώτημα 4: Classification SVM, KNN, Random Forests**"
      ]
    },
    {
      "cell_type": "markdown",
      "metadata": {
        "id": "zbyKf1yQV3lY"
      },
      "source": [
        "###Classification χρησιμοποιώντας BoW"
      ]
    },
    {
      "cell_type": "code",
      "execution_count": null,
      "metadata": {
        "id": "ZGV2lmsB0Dvv"
      },
      "outputs": [],
      "source": [
        "bow_train = pickle.load(open('/content/gdrive/MyDrive/Data Mining/hw1/bow_train.pkl', 'rb'))\n",
        "bow_test = count_vectorizer.transform(x_test.array)"
      ]
    },
    {
      "cell_type": "code",
      "execution_count": null,
      "metadata": {
        "colab": {
          "base_uri": "https://localhost:8080/"
        },
        "id": "4tVLF2Hd3jep",
        "outputId": "b8be3a88-48a8-4c8e-ec40-73e369a3bbc1"
      },
      "outputs": [
        {
          "name": "stdout",
          "output_type": "stream",
          "text": [
            "Best hyperparameters for svm classification\n",
            "{'C': 1, 'gamma': 'scale'}\n",
            "Classification using Bag of Words representation and Support Vector Machines\n",
            "              precision    recall  f1-score   support\n",
            "\n",
            "         NEG       0.71      0.14      0.24       588\n",
            "         NEU       0.80      0.98      0.88      3437\n",
            "         POS       0.74      0.30      0.43       535\n",
            "\n",
            "    accuracy                           0.79      4560\n",
            "   macro avg       0.75      0.47      0.51      4560\n",
            "weighted avg       0.78      0.79      0.74      4560\n",
            "\n"
          ]
        }
      ],
      "source": [
        "from sklearn.model_selection import GridSearchCV\n",
        "from sklearn.metrics import classification_report\n",
        "from sklearn import svm\n",
        "\n",
        "parameters = {'C':[1, 10], 'gamma':('auto', 'scale')}\n",
        "\n",
        "svc = svm.SVC()\n",
        "svm_classifier = GridSearchCV(svc, parameters, cv=10, scoring=['accuracy', 'recall_micro', 'precision_micro', 'f1_micro'], refit='accuracy')\n",
        "svm_classifier.fit(bow_train, y_train)\n",
        "svm_bow_prediction = svm_classifier.predict(bow_test)\n",
        "\n",
        "print(\"Best hyperparameters for svm classification\")\n",
        "print(svm_classifier.best_params_)\n",
        "print('Classification using Bag of Words representation and Support Vector Machines')\n",
        "print(classification_report(y_test, svm_bow_prediction))"
      ]
    },
    {
      "cell_type": "code",
      "execution_count": null,
      "metadata": {
        "colab": {
          "base_uri": "https://localhost:8080/"
        },
        "id": "Wz38nS9mQTSI",
        "outputId": "4b797956-fcf8-40b2-c654-07a631d42bdc"
      },
      "outputs": [
        {
          "name": "stdout",
          "output_type": "stream",
          "text": [
            "Best hyperparameters for knn classification\n",
            "{'n_neighbors': 17}\n",
            "Classification using Bag of Words representation and K-nearest neighbors\n",
            "              precision    recall  f1-score   support\n",
            "\n",
            "         NEG       0.58      0.10      0.16       588\n",
            "         NEU       0.77      0.99      0.86      3437\n",
            "         POS       0.79      0.04      0.07       535\n",
            "\n",
            "    accuracy                           0.76      4560\n",
            "   macro avg       0.71      0.37      0.36      4560\n",
            "weighted avg       0.74      0.76      0.68      4560\n",
            "\n"
          ]
        }
      ],
      "source": [
        "from sklearn.neighbors import KNeighborsClassifier\n",
        "from sklearn.model_selection import GridSearchCV\n",
        "from sklearn.metrics import classification_report\n",
        "\n",
        "knn = KNeighborsClassifier()\n",
        "\n",
        "k_range = list(range(1, 31))\n",
        "param_grid = dict(n_neighbors=k_range)\n",
        "\n",
        "knn_classifier = GridSearchCV(knn, param_grid, cv=10, scoring=['accuracy', 'recall_micro', 'precision_micro', 'f1_micro'], refit='accuracy')\n",
        "knn_classifier.fit(bow_train, y_train)\n",
        "knn_bow_prediction = knn_classifier.predict(bow_test)\n",
        "\n",
        "print(\"Best hyperparameters for knn classification\")\n",
        "print(knn_classifier.best_params_)\n",
        "print('Classification using Bag of Words representation and K-nearest neighbors')\n",
        "print(classification_report(y_test, knn_bow_prediction))"
      ]
    },
    {
      "cell_type": "code",
      "execution_count": null,
      "metadata": {
        "colab": {
          "base_uri": "https://localhost:8080/"
        },
        "id": "CKuZOcMuWobu",
        "outputId": "6b4847f7-a875-4373-ae0b-546ee3c8832f"
      },
      "outputs": [
        {
          "name": "stdout",
          "output_type": "stream",
          "text": [
            "Best hyperparameters for rf classification\n",
            "{'bootstrap': False, 'max_depth': 10, 'max_features': 'auto', 'n_estimators': 10}\n",
            "Classification using Bag of Words representation and random forest\n",
            "              precision    recall  f1-score   support\n",
            "\n",
            "         NEG       0.66      0.04      0.07       588\n",
            "         NEU       0.76      1.00      0.86      3437\n",
            "         POS       0.83      0.08      0.15       535\n",
            "\n",
            "    accuracy                           0.76      4560\n",
            "   macro avg       0.75      0.37      0.36      4560\n",
            "weighted avg       0.76      0.76      0.68      4560\n",
            "\n"
          ]
        }
      ],
      "source": [
        "from sklearn.ensemble import RandomForestClassifier\n",
        "from sklearn.model_selection import GridSearchCV\n",
        "from sklearn.metrics import classification_report\n",
        "\n",
        "rf = RandomForestClassifier()\n",
        "\n",
        "param_grid = {'bootstrap':[True,False], 'max_depth':[2,10], 'max_features':['auto', 'log2'], 'n_estimators':[int(x) for x in np.linspace(start=10, stop=80, num=10)]}\n",
        "\n",
        "rf_classifier = GridSearchCV(rf, param_grid, cv=10, scoring=['accuracy', 'recall_micro', 'precision_micro', 'f1_micro'], refit='accuracy')\n",
        "rf_classifier.fit(bow_train, y_train)\n",
        "rf_bow_prediction = rf_classifier.predict(bow_test)\n",
        "\n",
        "print(\"Best hyperparameters for rf classification\")\n",
        "print(rf_classifier.best_params_)\n",
        "print('Classification using Bag of Words representation and random forest')\n",
        "print(classification_report(y_test, rf_bow_prediction))"
      ]
    },
    {
      "cell_type": "markdown",
      "metadata": {
        "id": "luxCWjPU3ohs"
      },
      "source": [
        "###Classification χρησιμοποιώντας TF-IDF"
      ]
    },
    {
      "cell_type": "code",
      "execution_count": null,
      "metadata": {
        "id": "T_0brEdE3u90"
      },
      "outputs": [],
      "source": [
        "tfidf_train = pickle.load(open('/content/gdrive/MyDrive/Data Mining/hw1/tfidf_train.pkl', 'rb'))\n",
        "tfidf_test = tfidf_vectorizer.transform(x_test.array)"
      ]
    },
    {
      "cell_type": "code",
      "execution_count": null,
      "metadata": {
        "colab": {
          "base_uri": "https://localhost:8080/"
        },
        "id": "WdCnmKLb33K7",
        "outputId": "adb127a2-2d32-45eb-ce04-d94beae018b5"
      },
      "outputs": [
        {
          "name": "stdout",
          "output_type": "stream",
          "text": [
            "Best hyperparameters for svm classification\n",
            "{'C': 1, 'gamma': 'scale'}\n",
            "Classification using TF-IDF representation and Support Vector Machines\n",
            "              precision    recall  f1-score   support\n",
            "\n",
            "         NEG       0.62      0.15      0.24       588\n",
            "         NEU       0.80      0.97      0.88      3437\n",
            "         POS       0.74      0.31      0.44       535\n",
            "\n",
            "    accuracy                           0.79      4560\n",
            "   macro avg       0.72      0.48      0.52      4560\n",
            "weighted avg       0.77      0.79      0.74      4560\n",
            "\n"
          ]
        }
      ],
      "source": [
        "parameters = {'C':[1, 10], 'gamma':('auto', 'scale')}\n",
        "\n",
        "svc = svm.SVC()\n",
        "svm_classifier = GridSearchCV(svc, parameters, cv=10, scoring=['accuracy', 'recall_micro', 'precision_micro', 'f1_micro'], refit='accuracy')\n",
        "svm_classifier.fit(tfidf_train, y_train)\n",
        "svm_tfidf_prediction = svm_classifier.predict(tfidf_test)\n",
        "\n",
        "print(\"Best hyperparameters for svm classification\")\n",
        "print(svm_classifier.best_params_)\n",
        "print('Classification using TF-IDF representation and Support Vector Machines')\n",
        "print(classification_report(y_test, svm_tfidf_prediction))"
      ]
    },
    {
      "cell_type": "code",
      "execution_count": null,
      "metadata": {
        "colab": {
          "base_uri": "https://localhost:8080/"
        },
        "id": "iEDGrr634UrE",
        "outputId": "8197b9ce-9a02-4e0c-ca83-c67634c9ad40"
      },
      "outputs": [
        {
          "output_type": "stream",
          "name": "stdout",
          "text": [
            "Best hyperparameters for knn classification\n",
            "{'n_neighbors': 15}\n",
            "Classification using TF-IDF representation and K-nearest neighbors\n",
            "              precision    recall  f1-score   support\n",
            "\n",
            "         NEG       0.52      0.16      0.25       588\n",
            "         NEU       0.78      0.97      0.87      3437\n",
            "         POS       0.74      0.17      0.27       535\n",
            "\n",
            "    accuracy                           0.77      4560\n",
            "   macro avg       0.68      0.43      0.46      4560\n",
            "weighted avg       0.74      0.77      0.72      4560\n",
            "\n"
          ]
        }
      ],
      "source": [
        "from sklearn.neighbors import KNeighborsClassifier\n",
        "from sklearn.model_selection import GridSearchCV\n",
        "from sklearn.metrics import classification_report\n",
        "\n",
        "knn = KNeighborsClassifier()\n",
        "\n",
        "k_range = list(range(1, 31))\n",
        "param_grid = dict(n_neighbors=k_range)\n",
        "\n",
        "knn_classifier = GridSearchCV(knn, param_grid, cv=10, scoring=['accuracy', 'recall_micro', 'precision_micro', 'f1_micro'], refit='accuracy')\n",
        "knn_classifier.fit(tfidf_train, y_train)\n",
        "knn_tfidf_prediction = knn_classifier.predict(tfidf_test)\n",
        "\n",
        "print(\"Best hyperparameters for knn classification\")\n",
        "print(knn_classifier.best_params_)\n",
        "print('Classification using TF-IDF representation and K-nearest neighbors')\n",
        "print(classification_report(y_test, knn_tfidf_prediction))"
      ]
    },
    {
      "cell_type": "code",
      "execution_count": null,
      "metadata": {
        "id": "CUQMikZA4eyk",
        "colab": {
          "base_uri": "https://localhost:8080/"
        },
        "outputId": "380c397f-b15e-4546-bdda-847c1a9c12ce"
      },
      "outputs": [
        {
          "output_type": "stream",
          "name": "stdout",
          "text": [
            "Best hyperparameters for rf classification\n",
            "{'bootstrap': True, 'max_depth': 10, 'max_features': 'auto', 'n_estimators': 10}\n",
            "Classification using TF-IDF representation and random forest\n",
            "              precision    recall  f1-score   support\n",
            "\n",
            "         NEG       0.76      0.03      0.06       588\n",
            "         NEU       0.76      1.00      0.86      3437\n",
            "         POS       0.90      0.05      0.10       535\n",
            "\n",
            "    accuracy                           0.76      4560\n",
            "   macro avg       0.81      0.36      0.34      4560\n",
            "weighted avg       0.78      0.76      0.67      4560\n",
            "\n"
          ]
        }
      ],
      "source": [
        "from sklearn.ensemble import RandomForestClassifier\n",
        "from sklearn.model_selection import GridSearchCV\n",
        "from sklearn.metrics import classification_report\n",
        "\n",
        "rf = RandomForestClassifier()\n",
        "\n",
        "param_grid = {'bootstrap':[True,False], 'max_depth':[2,10], 'max_features':['auto', 'log2'], 'n_estimators':[int(x) for x in np.linspace(start=10, stop=80, num=10)]}\n",
        "\n",
        "rf_classifier = GridSearchCV(rf, param_grid, cv=10, scoring=['accuracy', 'recall_micro', 'precision_micro', 'f1_micro'], refit='accuracy')\n",
        "rf_classifier.fit(tfidf_train, y_train)\n",
        "rf_tfidf_prediction = rf_classifier.predict(tfidf_test)\n",
        "\n",
        "print(\"Best hyperparameters for rf classification\")\n",
        "print(rf_classifier.best_params_)\n",
        "print('Classification using TF-IDF representation and random forest')\n",
        "print(classification_report(y_test, rf_tfidf_prediction))"
      ]
    },
    {
      "cell_type": "markdown",
      "metadata": {
        "id": "QN9hFiIA5HM8"
      },
      "source": [
        "###Classification χρησιμοποιώντας Word Embeddings"
      ]
    },
    {
      "cell_type": "code",
      "execution_count": null,
      "metadata": {
        "id": "nsFQ71Z95dzu"
      },
      "outputs": [],
      "source": [
        "from gensim.models import KeyedVectors\n",
        "\n",
        "model = KeyedVectors.load(\"/content/gdrive/MyDrive/Data Mining/hw1/model_w2v.pkl\")\n",
        "w2v_train = [text.split() for text in x_train]\n",
        "w2v_test = [text.split() for text in x_test]"
      ]
    },
    {
      "cell_type": "code",
      "execution_count": null,
      "metadata": {
        "id": "POZQreB_wJIh"
      },
      "outputs": [],
      "source": [
        "def averageVector(words, model, max_features):\n",
        "    feature_vec = np.zeros((max_features,))\n",
        "    wordCount = 0\n",
        "    w2v_vocab = set(model.index2word)\n",
        "\n",
        "    for word in words:\n",
        "        if word in w2v_vocab:\n",
        "            wordCount += 1\n",
        "            feature_vec = np.add(feature_vec,model[word])\n",
        "    if wordCount != 0:\n",
        "      feature_vec = np.divide(feature_vec, wordCount)\n",
        "    return feature_vec\n",
        "\n",
        "\n",
        "def textVector(text, model, max_features):\n",
        "    textFeatureVectors = np.zeros((len(text),max_features))\n",
        "\n",
        "    for index,value in enumerate(text):\n",
        "        textFeatureVectors[index] = averageVector(value, model, max_features)\n",
        "    return textFeatureVectors\n",
        "\n",
        "trainVectors = textVector(w2v_train,model,100)\n",
        "testVectors = textVector(w2v_test,model,100)"
      ]
    },
    {
      "cell_type": "code",
      "execution_count": null,
      "metadata": {
        "id": "jRoczHuh93Wt",
        "colab": {
          "base_uri": "https://localhost:8080/"
        },
        "outputId": "fbc7b01a-1f52-4d47-b425-b4d5bd702bf6"
      },
      "outputs": [
        {
          "output_type": "stream",
          "name": "stdout",
          "text": [
            "Best hyperparameters for svm classification\n",
            "{'C': 10, 'gamma': 'scale'}\n",
            "Classification using Word Embeddings representation and Support Vector Machines\n",
            "              precision    recall  f1-score   support\n",
            "\n",
            "         NEG       0.69      0.10      0.17       588\n",
            "         NEU       0.77      0.99      0.87      3437\n",
            "         POS       0.93      0.05      0.10       535\n",
            "\n",
            "    accuracy                           0.77      4560\n",
            "   macro avg       0.80      0.38      0.38      4560\n",
            "weighted avg       0.78      0.77      0.69      4560\n",
            "\n"
          ]
        }
      ],
      "source": [
        "from sklearn.model_selection import GridSearchCV\n",
        "from sklearn.metrics import classification_report\n",
        "from sklearn import svm\n",
        "\n",
        "parameters = {'C':[1, 10], 'gamma':('auto', 'scale')}\n",
        "\n",
        "svc = svm.SVC()\n",
        "svm_classifier = GridSearchCV(svc, parameters, cv=10, scoring=['accuracy', 'recall_micro', 'precision_micro', 'f1_micro'], refit='accuracy')\n",
        "svm_classifier.fit(trainVectors, y_train)\n",
        "svm_w2v_prediction = svm_classifier.predict(testVectors)\n",
        "\n",
        "print(\"Best hyperparameters for svm classification\")\n",
        "print(svm_classifier.best_params_)\n",
        "print('Classification using Word Embeddings representation and Support Vector Machines')\n",
        "print(classification_report(y_test, svm_w2v_prediction))"
      ]
    },
    {
      "cell_type": "code",
      "execution_count": null,
      "metadata": {
        "id": "5yj432xd-Jyv",
        "colab": {
          "base_uri": "https://localhost:8080/"
        },
        "outputId": "3b59a4dc-b989-428f-bea1-d71225e659d7"
      },
      "outputs": [
        {
          "output_type": "stream",
          "name": "stdout",
          "text": [
            "Best hyperparameters for knn classification\n",
            "{'n_neighbors': 30}\n",
            "Classification using Word Embeddings representation and K-nearest neighbors\n",
            "              precision    recall  f1-score   support\n",
            "\n",
            "         NEG       0.54      0.20      0.29       588\n",
            "         NEU       0.78      0.97      0.86      3437\n",
            "         POS       0.49      0.07      0.12       535\n",
            "\n",
            "    accuracy                           0.76      4560\n",
            "   macro avg       0.60      0.41      0.42      4560\n",
            "weighted avg       0.71      0.76      0.70      4560\n",
            "\n"
          ]
        }
      ],
      "source": [
        "from sklearn.neighbors import KNeighborsClassifier\n",
        "from sklearn.model_selection import GridSearchCV\n",
        "from sklearn.metrics import classification_report\n",
        "\n",
        "knn = KNeighborsClassifier()\n",
        "\n",
        "k_range = list(range(1, 31))\n",
        "param_grid = dict(n_neighbors=k_range)\n",
        "\n",
        "knn_classifier = GridSearchCV(knn, param_grid, cv=10, scoring=['accuracy', 'recall_micro', 'precision_micro', 'f1_micro'], refit='accuracy')\n",
        "knn_classifier.fit(trainVectors, y_train)\n",
        "knn_w2v_prediction = knn_classifier.predict(testVectors)\n",
        "\n",
        "print(\"Best hyperparameters for knn classification\")\n",
        "print(knn_classifier.best_params_)\n",
        "print('Classification using Word Embeddings representation and K-nearest neighbors')\n",
        "print(classification_report(y_test, knn_w2v_prediction))"
      ]
    },
    {
      "cell_type": "code",
      "execution_count": null,
      "metadata": {
        "id": "3oIzUC_W-UwG",
        "colab": {
          "base_uri": "https://localhost:8080/"
        },
        "outputId": "a43dad05-5a8e-4eac-b8c3-0da3137a3a5b"
      },
      "outputs": [
        {
          "output_type": "stream",
          "name": "stdout",
          "text": [
            "Best hyperparameters for rf classification\n",
            "{'bootstrap': False, 'max_depth': 10, 'max_features': 'auto', 'n_estimators': 33}\n",
            "Classification using Word Embeddings representation and random forest\n",
            "              precision    recall  f1-score   support\n",
            "\n",
            "         NEG       0.71      0.15      0.25       588\n",
            "         NEU       0.77      0.99      0.87      3437\n",
            "         POS       0.74      0.03      0.06       535\n",
            "\n",
            "    accuracy                           0.77      4560\n",
            "   macro avg       0.74      0.39      0.39      4560\n",
            "weighted avg       0.76      0.77      0.69      4560\n",
            "\n"
          ]
        }
      ],
      "source": [
        "from sklearn.ensemble import RandomForestClassifier\n",
        "from sklearn.model_selection import GridSearchCV\n",
        "from sklearn.metrics import classification_report\n",
        "\n",
        "rf = RandomForestClassifier()\n",
        "\n",
        "param_grid = {'bootstrap':[True,False], 'max_depth':[2,10], 'max_features':['auto', 'log2'], 'n_estimators':[int(x) for x in np.linspace(start=10, stop=80, num=10)]}\n",
        "\n",
        "rf_classifier = GridSearchCV(rf, param_grid, cv=10, scoring=['accuracy', 'recall_micro', 'precision_micro', 'f1_micro'], refit='accuracy')\n",
        "rf_classifier.fit(trainVectors, y_train)\n",
        "rf_w2v_prediction = rf_classifier.predict(testVectors)\n",
        "\n",
        "print(\"Best hyperparameters for rf classification\")\n",
        "print(rf_classifier.best_params_)\n",
        "print('Classification using Word Embeddings representation and random forest')\n",
        "print(classification_report(y_test, rf_w2v_prediction))"
      ]
    }
  ],
  "metadata": {
    "colab": {
      "collapsed_sections": [
        "9w-rmrRK1kpd"
      ],
      "provenance": []
    },
    "kernelspec": {
      "display_name": "Python 3",
      "name": "python3"
    },
    "language_info": {
      "name": "python"
    }
  },
  "nbformat": 4,
  "nbformat_minor": 0
}